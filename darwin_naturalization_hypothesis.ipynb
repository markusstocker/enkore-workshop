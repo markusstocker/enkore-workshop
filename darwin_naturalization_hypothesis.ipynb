{
 "cells": [
  {
   "cell_type": "markdown",
   "id": "245a900e-f0d2-4583-ade8-8bbe214f88de",
   "metadata": {},
   "source": [
    "# Darwin's naturalization Hypothesis \n",
    "\n",
    "The invasion success of non-native species is higher in areas that are poor in closely related species than in areas that are rich in closely related species.\n",
    "\n",
    "This example notebook uses the [ORKG comparison data](https://orkg.org/orkg/comparison/R53407) for this hypothesis, processes and visualizes the data to show the support the hypothesis has in the literature."
   ]
  },
  {
   "cell_type": "code",
   "execution_count": null,
   "id": "9eb5201a-798c-4786-9c91-a7897c5d0440",
   "metadata": {},
   "outputs": [],
   "source": [
    "from orkg import ORKG\n",
    "import numpy as np\n",
    "import matplotlib.pyplot as plt"
   ]
  },
  {
   "cell_type": "code",
   "execution_count": null,
   "id": "d48d3260-c5bf-4ce7-846c-d183a186507b",
   "metadata": {},
   "outputs": [],
   "source": [
    "orkg = ORKG(host='https://orkg.org/orkg', simcomp_host='https://orkg.org/orkg/simcomp')\n",
    "\n",
    "df = orkg.contributions.compare_dataframe(comparison_id='R53407')\n",
    "df = df.T"
   ]
  },
  {
   "cell_type": "code",
   "execution_count": null,
   "id": "2e84a4e5-2ec2-484e-aeeb-ce08d50f5de2",
   "metadata": {},
   "outputs": [],
   "source": [
    "df.head(5)"
   ]
  },
  {
   "cell_type": "markdown",
   "id": "2aea9a81-4147-46f9-89c0-27c6a800298c",
   "metadata": {},
   "source": [
    "**Q1: How much support does the hypothesis have?**"
   ]
  },
  {
   "cell_type": "code",
   "execution_count": null,
   "id": "5f2afad7-7ae5-40b2-bbd3-b915ed044e87",
   "metadata": {},
   "outputs": [],
   "source": [
    "df1 = df.value_counts(['stand of hypothesis']).reset_index(name='count')\n",
    "df1"
   ]
  },
  {
   "cell_type": "code",
   "execution_count": null,
   "id": "f93733da-932e-4bda-9fa4-ecc7a7ec3a13",
   "metadata": {},
   "outputs": [],
   "source": [
    "labels = np.array(df1['stand of hypothesis']).astype(str)\n",
    "sizes = np.array(df1['count']).astype(int) \n",
    "\n",
    "fig1, ax1 = plt.subplots()\n",
    "ax1.pie(sizes, labels=labels, autopct='%1.1f%%', startangle=90)\n",
    "plt.show()"
   ]
  },
  {
   "cell_type": "markdown",
   "id": "bae8d697-4ac4-4bf7-b277-29c10d210050",
   "metadata": {},
   "source": [
    "**Q2: What kind of species have been investigated?**"
   ]
  },
  {
   "cell_type": "code",
   "execution_count": null,
   "id": "b34fd17c-7c29-4aa6-ac49-cdf4de6d8c0b",
   "metadata": {},
   "outputs": [],
   "source": [
    "df['Investigated species'].value_counts()"
   ]
  },
  {
   "cell_type": "markdown",
   "id": "20a0256d-400c-4506-9229-c843cd3a60b4",
   "metadata": {},
   "source": [
    "**Q3: How much support does the hypothesis have for plants (as investigated species)?**"
   ]
  },
  {
   "cell_type": "code",
   "execution_count": null,
   "id": "f48790a5-43ce-4659-9c40-6f3eeb6b83f2",
   "metadata": {},
   "outputs": [],
   "source": [
    "df1 = df[df['Investigated species']=='Plants']\n",
    "df1 = df1.value_counts(['stand of hypothesis']).reset_index(name='count')\n",
    "\n",
    "labels = np.array(df1['stand of hypothesis']).astype(str)\n",
    "sizes = np.array(df1['count']).astype(int) \n",
    "\n",
    "fig1, ax1 = plt.subplots()\n",
    "ax1.pie(sizes, labels=labels, autopct='%1.1f%%', startangle=90)\n",
    "plt.show()"
   ]
  },
  {
   "cell_type": "markdown",
   "id": "e6601b66-61d3-4467-be8f-ed06a200fba0",
   "metadata": {},
   "source": [
    "**Q4: During which years were articles related to this hypothesis published most frequently?**"
   ]
  },
  {
   "cell_type": "code",
   "execution_count": null,
   "id": "ac04cb74-c914-4072-8a0e-df787a251be5",
   "metadata": {},
   "outputs": [],
   "source": [
    "df.value_counts(['Study date']).reset_index(name='Count')"
   ]
  },
  {
   "cell_type": "markdown",
   "id": "4ebd41f3-1310-418d-b323-4e4ce696e3c8",
   "metadata": {},
   "source": [
    "**Q5: Which regions have been studied most frequently?**"
   ]
  },
  {
   "cell_type": "code",
   "execution_count": null,
   "id": "c5a0db16-2d45-40ca-b0c4-33d1951697b5",
   "metadata": {},
   "outputs": [],
   "source": [
    "df['Continent'].value_counts()"
   ]
  },
  {
   "cell_type": "code",
   "execution_count": null,
   "id": "98c1fe0a-6207-4f35-ab4d-54ab7a145be8",
   "metadata": {},
   "outputs": [],
   "source": []
  }
 ],
 "metadata": {
  "kernelspec": {
   "display_name": "Python 3 (ipykernel)",
   "language": "python",
   "name": "python3"
  },
  "language_info": {
   "codemirror_mode": {
    "name": "ipython",
    "version": 3
   },
   "file_extension": ".py",
   "mimetype": "text/x-python",
   "name": "python",
   "nbconvert_exporter": "python",
   "pygments_lexer": "ipython3",
   "version": "3.8.10"
  }
 },
 "nbformat": 4,
 "nbformat_minor": 5
}
