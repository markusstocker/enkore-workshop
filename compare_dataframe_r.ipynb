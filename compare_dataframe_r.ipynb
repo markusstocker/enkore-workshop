{
 "cells": [
  {
   "cell_type": "code",
   "execution_count": null,
   "id": "428322cc-24f9-42ed-95a5-42605bec99a9",
   "metadata": {},
   "outputs": [],
   "source": [
    "library(httr)\n",
    "library(jsonlite)\n",
    "library(foreach)\n",
    "library(iterators)"
   ]
  },
  {
   "cell_type": "code",
   "execution_count": null,
   "id": "ad8356ae-9e73-4339-b966-ea4e14a36c44",
   "metadata": {},
   "outputs": [],
   "source": [
    "compare_dataframe <- function(comparison_id) {\n",
    "    data <- fetch_data(comparison_id)\n",
    "    return(create_dataframe(data))\n",
    "}\n",
    "\n",
    "fetch_data <- function(comparison_id) {\n",
    "    path <- paste('https://www.orkg.org/orkg/simcomp/visualization/?resourceId=', comparison_id, sep='')\n",
    "    r <- GET(url=path)\n",
    "    r <- content(r, as='text', encoding='UTF-8')\n",
    "    df <- fromJSON(r,flatten = TRUE)\n",
    "    path <- paste('https://www.orkg.org/orkg/simcomp/compare/', df$data$url, sep='')\n",
    "    r <- GET(url=path)\n",
    "    r <- content(r, as='text', encoding='UTF-8')\n",
    "    return(fromJSON(r,flatten = TRUE))\n",
    "}\n",
    "\n",
    "create_dataframe <- function(data) {\n",
    "    contributions <- data$contributions\n",
    "    properties <- data$properties\n",
    "\n",
    "    property_labels <- properties['label']\n",
    "    contribution_labels <- foreach(d=iter(contributions, by='row'), .combine='rbind') %do% paste(d[['title']], d[['contributionLabel']], sep='/')\n",
    "\n",
    "    df <- data.frame(matrix(nrow = nrow(property_labels), ncol = nrow(contribution_labels)))\n",
    "    rownames(df) <- property_labels$label\n",
    "    colnames(df) <- contribution_labels\n",
    "\n",
    "    d1 <- data$data\n",
    "\n",
    "    for(i in 1:length(d1)) {\n",
    "        d2 <- d1[[i]]\n",
    "        for(j in 1:length(d2)) {\n",
    "            d3 <- d2[[j]]\n",
    "            label <- d3[['label']]\n",
    "            contribution_id <- d3[['path']][[1]][[1]]\n",
    "\n",
    "            if (is.null(contribution_id))\n",
    "                next\n",
    "\n",
    "            contribution <- contributions[contributions['id'] == contribution_id, ]\n",
    "            contribution_label <- paste(contribution$title, contribution$contributionLabel, sep='/')\n",
    "            property_id <- d3[['path']][[1]][[length(d3[['path']][[1]])]]\n",
    "            property_label <- properties[properties['id'] == property_id, ]$label\n",
    "        \n",
    "            if(length(label) == 1)\n",
    "                df[property_label, contribution_label] <- label\n",
    "            else\n",
    "                df[property_label, contribution_label] <- paste(label, collapse = \"/\")\n",
    "        }\n",
    "    }\n",
    "    \n",
    "    return(df)\n",
    "}"
   ]
  },
  {
   "cell_type": "code",
   "execution_count": null,
   "id": "b8a6ff6a-cdcf-4beb-8d5b-b9378ffd5628",
   "metadata": {},
   "outputs": [],
   "source": [
    "df <- compare_dataframe(comparison_id='R53407')\n",
    "\n",
    "t(df)"
   ]
  }
 ],
 "metadata": {
  "kernelspec": {
   "display_name": "R",
   "language": "R",
   "name": "ir"
  },
  "language_info": {
   "codemirror_mode": "r",
   "file_extension": ".r",
   "mimetype": "text/x-r-source",
   "name": "R",
   "pygments_lexer": "r",
   "version": "3.6.3"
  }
 },
 "nbformat": 4,
 "nbformat_minor": 5
}
